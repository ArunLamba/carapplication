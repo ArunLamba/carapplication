{
 "cells": [
  {
   "cell_type": "markdown",
   "metadata": {},
   "source": [
    "# What drives the price of a car?\n",
    "\n",
    "![](images/kurt.jpeg)"
   ]
  },
  {
   "cell_type": "markdown",
   "metadata": {},
   "source": [
    "**OVERVIEW**\n",
    "\n",
    "In this application, you will explore a dataset from kaggle that contains information on 3 million used cars.  Your goal is to understand what factors make a car more or less expensive.  As a result of your analysis, you should provide clear recommendations to your client -- a used car dealership -- as to what consumers value in a used car."
   ]
  },
  {
   "cell_type": "markdown",
   "metadata": {},
   "source": [
    "### CRISP-DM Framework\n",
    "\n",
    "<center>\n",
    "    <img src = images/crisp.png width = 50%/>\n",
    "</center>\n",
    "\n",
    "\n",
    "To frame the task, throughout our practical applications we will refer back to a standard process in industry for data projects called CRISP-DM.  This process provides a framework for working through a data problem.  Your first step in this application will be to read through a brief overview of CRISP-DM [here](https://mo-pcco.s3.us-east-1.amazonaws.com/BH-PCMLAI/module_11/readings_starter.zip).  After reading the overview, answer the questions below."
   ]
  },
  {
   "cell_type": "markdown",
   "metadata": {},
   "source": [
    "### Business Understanding\n",
    "\n",
    "From a business perspective, we are tasked with identifying key drivers for used car prices.  In the CRISP-DM overview, we are asked to convert this business framing to a data problem definition.  Using a few sentences, reframe the task as a data task with the appropriate technical vocabulary. "
   ]
  },
  {
   "cell_type": "code",
   "execution_count": 2,
   "metadata": {},
   "outputs": [],
   "source": [
    "import pandas as pd\n",
    "import numpy as np\n",
    "import seaborn as sns\n",
    "import matplotlib.pyplot as plt\n",
    "%matplotlib inline\n",
    "\n",
    "from tqdm import tqdm\n",
    "from sklearn.experimental import enable_iterative_imputer\n",
    "from sklearn.impute import IterativeImputer\n",
    "from sklearn.ensemble import ExtraTreesRegressor, RandomForestRegressor\n",
    "from sklearn.linear_model import BayesianRidge\n",
    "from sklearn.tree import DecisionTreeRegressor\n",
    "from sklearn.neighbors import KNeighborsRegressor\n",
    "from sklearn.preprocessing import OrdinalEncoder\n",
    "from sklearn import preprocessing\n",
    "\n",
    "from sklearn.model_selection import cross_val_score\n",
    "from sklearn.impute import SimpleImputer\n",
    "from sklearn.pipeline import make_pipeline\n",
    "\n",
    "import warnings\n",
    "warnings.filterwarnings('ignore')"
   ]
  },
  {
   "cell_type": "code",
   "execution_count": 3,
   "metadata": {},
   "outputs": [],
   "source": [
    "# Loading Dataframe\n",
    "df = pd.read_csv('data/vehicles_working.csv')"
   ]
  },
  {
   "cell_type": "code",
   "execution_count": 4,
   "metadata": {},
   "outputs": [
    {
     "data": {
      "text/html": [
       "<div>\n",
       "<style scoped>\n",
       "    .dataframe tbody tr th:only-of-type {\n",
       "        vertical-align: middle;\n",
       "    }\n",
       "\n",
       "    .dataframe tbody tr th {\n",
       "        vertical-align: top;\n",
       "    }\n",
       "\n",
       "    .dataframe thead th {\n",
       "        text-align: right;\n",
       "    }\n",
       "</style>\n",
       "<table border=\"1\" class=\"dataframe\">\n",
       "  <thead>\n",
       "    <tr style=\"text-align: right;\">\n",
       "      <th></th>\n",
       "      <th>id</th>\n",
       "      <th>region</th>\n",
       "      <th>price</th>\n",
       "      <th>year</th>\n",
       "      <th>manufacturer</th>\n",
       "      <th>model</th>\n",
       "      <th>condition</th>\n",
       "      <th>cylinders</th>\n",
       "      <th>fuel</th>\n",
       "      <th>odometer</th>\n",
       "      <th>title_status</th>\n",
       "      <th>transmission</th>\n",
       "      <th>VIN</th>\n",
       "      <th>drive</th>\n",
       "      <th>size</th>\n",
       "      <th>type</th>\n",
       "      <th>paint_color</th>\n",
       "      <th>state</th>\n",
       "    </tr>\n",
       "  </thead>\n",
       "  <tbody>\n",
       "    <tr>\n",
       "      <th>0</th>\n",
       "      <td>7222695916</td>\n",
       "      <td>prescott</td>\n",
       "      <td>6000</td>\n",
       "      <td>NaN</td>\n",
       "      <td>NaN</td>\n",
       "      <td>NaN</td>\n",
       "      <td>NaN</td>\n",
       "      <td>NaN</td>\n",
       "      <td>NaN</td>\n",
       "      <td>NaN</td>\n",
       "      <td>NaN</td>\n",
       "      <td>NaN</td>\n",
       "      <td>NaN</td>\n",
       "      <td>NaN</td>\n",
       "      <td>NaN</td>\n",
       "      <td>NaN</td>\n",
       "      <td>NaN</td>\n",
       "      <td>az</td>\n",
       "    </tr>\n",
       "    <tr>\n",
       "      <th>1</th>\n",
       "      <td>7218891961</td>\n",
       "      <td>fayetteville</td>\n",
       "      <td>11900</td>\n",
       "      <td>NaN</td>\n",
       "      <td>NaN</td>\n",
       "      <td>NaN</td>\n",
       "      <td>NaN</td>\n",
       "      <td>NaN</td>\n",
       "      <td>NaN</td>\n",
       "      <td>NaN</td>\n",
       "      <td>NaN</td>\n",
       "      <td>NaN</td>\n",
       "      <td>NaN</td>\n",
       "      <td>NaN</td>\n",
       "      <td>NaN</td>\n",
       "      <td>NaN</td>\n",
       "      <td>NaN</td>\n",
       "      <td>ar</td>\n",
       "    </tr>\n",
       "    <tr>\n",
       "      <th>2</th>\n",
       "      <td>7221797935</td>\n",
       "      <td>florida keys</td>\n",
       "      <td>21000</td>\n",
       "      <td>NaN</td>\n",
       "      <td>NaN</td>\n",
       "      <td>NaN</td>\n",
       "      <td>NaN</td>\n",
       "      <td>NaN</td>\n",
       "      <td>NaN</td>\n",
       "      <td>NaN</td>\n",
       "      <td>NaN</td>\n",
       "      <td>NaN</td>\n",
       "      <td>NaN</td>\n",
       "      <td>NaN</td>\n",
       "      <td>NaN</td>\n",
       "      <td>NaN</td>\n",
       "      <td>NaN</td>\n",
       "      <td>fl</td>\n",
       "    </tr>\n",
       "    <tr>\n",
       "      <th>3</th>\n",
       "      <td>7222270760</td>\n",
       "      <td>worcester / central MA</td>\n",
       "      <td>1500</td>\n",
       "      <td>NaN</td>\n",
       "      <td>NaN</td>\n",
       "      <td>NaN</td>\n",
       "      <td>NaN</td>\n",
       "      <td>NaN</td>\n",
       "      <td>NaN</td>\n",
       "      <td>NaN</td>\n",
       "      <td>NaN</td>\n",
       "      <td>NaN</td>\n",
       "      <td>NaN</td>\n",
       "      <td>NaN</td>\n",
       "      <td>NaN</td>\n",
       "      <td>NaN</td>\n",
       "      <td>NaN</td>\n",
       "      <td>ma</td>\n",
       "    </tr>\n",
       "    <tr>\n",
       "      <th>4</th>\n",
       "      <td>7210384030</td>\n",
       "      <td>greensboro</td>\n",
       "      <td>4900</td>\n",
       "      <td>NaN</td>\n",
       "      <td>NaN</td>\n",
       "      <td>NaN</td>\n",
       "      <td>NaN</td>\n",
       "      <td>NaN</td>\n",
       "      <td>NaN</td>\n",
       "      <td>NaN</td>\n",
       "      <td>NaN</td>\n",
       "      <td>NaN</td>\n",
       "      <td>NaN</td>\n",
       "      <td>NaN</td>\n",
       "      <td>NaN</td>\n",
       "      <td>NaN</td>\n",
       "      <td>NaN</td>\n",
       "      <td>nc</td>\n",
       "    </tr>\n",
       "  </tbody>\n",
       "</table>\n",
       "</div>"
      ],
      "text/plain": [
       "           id                  region  price  year manufacturer model  \\\n",
       "0  7222695916                prescott   6000   NaN          NaN   NaN   \n",
       "1  7218891961            fayetteville  11900   NaN          NaN   NaN   \n",
       "2  7221797935            florida keys  21000   NaN          NaN   NaN   \n",
       "3  7222270760  worcester / central MA   1500   NaN          NaN   NaN   \n",
       "4  7210384030              greensboro   4900   NaN          NaN   NaN   \n",
       "\n",
       "  condition cylinders fuel  odometer title_status transmission  VIN drive  \\\n",
       "0       NaN       NaN  NaN       NaN          NaN          NaN  NaN   NaN   \n",
       "1       NaN       NaN  NaN       NaN          NaN          NaN  NaN   NaN   \n",
       "2       NaN       NaN  NaN       NaN          NaN          NaN  NaN   NaN   \n",
       "3       NaN       NaN  NaN       NaN          NaN          NaN  NaN   NaN   \n",
       "4       NaN       NaN  NaN       NaN          NaN          NaN  NaN   NaN   \n",
       "\n",
       "  size type paint_color state  \n",
       "0  NaN  NaN         NaN    az  \n",
       "1  NaN  NaN         NaN    ar  \n",
       "2  NaN  NaN         NaN    fl  \n",
       "3  NaN  NaN         NaN    ma  \n",
       "4  NaN  NaN         NaN    nc  "
      ]
     },
     "execution_count": 4,
     "metadata": {},
     "output_type": "execute_result"
    }
   ],
   "source": [
    "df.head()"
   ]
  },
  {
   "cell_type": "markdown",
   "metadata": {},
   "source": [
    "### Data Understanding\n",
    "\n",
    "After considering the business understanding, we want to get familiar with our data.  Write down some steps that you would take to get to know the dataset and identify any quality issues within.  Take time to get to know the dataset and explore what information it contains and how this could be used to inform your business understanding."
   ]
  },
  {
   "cell_type": "code",
   "execution_count": 5,
   "metadata": {},
   "outputs": [
    {
     "name": "stdout",
     "output_type": "stream",
     "text": [
      "<class 'pandas.core.frame.DataFrame'>\n",
      "RangeIndex: 426880 entries, 0 to 426879\n",
      "Data columns (total 18 columns):\n",
      " #   Column        Non-Null Count   Dtype  \n",
      "---  ------        --------------   -----  \n",
      " 0   id            426880 non-null  int64  \n",
      " 1   region        426880 non-null  object \n",
      " 2   price         426880 non-null  int64  \n",
      " 3   year          425675 non-null  float64\n",
      " 4   manufacturer  409234 non-null  object \n",
      " 5   model         421603 non-null  object \n",
      " 6   condition     252776 non-null  object \n",
      " 7   cylinders     249202 non-null  object \n",
      " 8   fuel          423867 non-null  object \n",
      " 9   odometer      422480 non-null  float64\n",
      " 10  title_status  418638 non-null  object \n",
      " 11  transmission  424324 non-null  object \n",
      " 12  VIN           265838 non-null  object \n",
      " 13  drive         296313 non-null  object \n",
      " 14  size          120519 non-null  object \n",
      " 15  type          334022 non-null  object \n",
      " 16  paint_color   296677 non-null  object \n",
      " 17  state         426880 non-null  object \n",
      "dtypes: float64(2), int64(2), object(14)\n",
      "memory usage: 58.6+ MB\n"
     ]
    }
   ],
   "source": [
    "df.info()"
   ]
  },
  {
   "cell_type": "code",
   "execution_count": 7,
   "metadata": {},
   "outputs": [
    {
     "data": {
      "text/plain": [
       "id                   0\n",
       "region               0\n",
       "price                0\n",
       "year              1205\n",
       "manufacturer     17646\n",
       "model             5277\n",
       "condition       174104\n",
       "cylinders       177678\n",
       "fuel              3013\n",
       "odometer          4400\n",
       "title_status      8242\n",
       "transmission      2556\n",
       "VIN             161042\n",
       "drive           130567\n",
       "size            306361\n",
       "type             92858\n",
       "paint_color     130203\n",
       "state                0\n",
       "dtype: int64"
      ]
     },
     "execution_count": 7,
     "metadata": {},
     "output_type": "execute_result"
    }
   ],
   "source": [
    "# Finding features with null values\n",
    "df.isnull().sum()"
   ]
  },
  {
   "cell_type": "markdown",
   "metadata": {},
   "source": [
    "### Data Preparation\n",
    "\n",
    "After our initial exploration and fine tuning of the business understanding, it is time to construct our final dataset prior to modeling.  Here, we want to make sure to handle any integrity issues and cleaning, the engineering of new features, any transformations that we believe should happen (scaling, logarithms, normalization, etc.), and general preparation for modeling with `sklearn`. "
   ]
  },
  {
   "cell_type": "code",
   "execution_count": 8,
   "metadata": {},
   "outputs": [],
   "source": [
    "# reindexing to get price as last column\n",
    "df= df.reindex(columns=['id', 'region', 'year', 'manufacturer',\n",
    "       'model', 'condition', 'cylinders', 'fuel', 'odometer', 'title_status',\n",
    "       'transmission', 'VIN', 'drive', 'size', 'type', 'paint_color',\n",
    "       'state','price'])"
   ]
  },
  {
   "cell_type": "code",
   "execution_count": 9,
   "metadata": {},
   "outputs": [
    {
     "data": {
      "text/html": [
       "<div>\n",
       "<style scoped>\n",
       "    .dataframe tbody tr th:only-of-type {\n",
       "        vertical-align: middle;\n",
       "    }\n",
       "\n",
       "    .dataframe tbody tr th {\n",
       "        vertical-align: top;\n",
       "    }\n",
       "\n",
       "    .dataframe thead th {\n",
       "        text-align: right;\n",
       "    }\n",
       "</style>\n",
       "<table border=\"1\" class=\"dataframe\">\n",
       "  <thead>\n",
       "    <tr style=\"text-align: right;\">\n",
       "      <th></th>\n",
       "      <th>id</th>\n",
       "      <th>region</th>\n",
       "      <th>year</th>\n",
       "      <th>manufacturer</th>\n",
       "      <th>model</th>\n",
       "      <th>condition</th>\n",
       "      <th>cylinders</th>\n",
       "      <th>fuel</th>\n",
       "      <th>odometer</th>\n",
       "      <th>title_status</th>\n",
       "      <th>transmission</th>\n",
       "      <th>VIN</th>\n",
       "      <th>drive</th>\n",
       "      <th>size</th>\n",
       "      <th>type</th>\n",
       "      <th>paint_color</th>\n",
       "      <th>state</th>\n",
       "      <th>price</th>\n",
       "    </tr>\n",
       "  </thead>\n",
       "  <tbody>\n",
       "    <tr>\n",
       "      <th>426875</th>\n",
       "      <td>7301591192</td>\n",
       "      <td>wyoming</td>\n",
       "      <td>2019.0</td>\n",
       "      <td>nissan</td>\n",
       "      <td>maxima s sedan 4d</td>\n",
       "      <td>good</td>\n",
       "      <td>6 cylinders</td>\n",
       "      <td>gas</td>\n",
       "      <td>32226.0</td>\n",
       "      <td>clean</td>\n",
       "      <td>other</td>\n",
       "      <td>1N4AA6AV6KC367801</td>\n",
       "      <td>fwd</td>\n",
       "      <td>NaN</td>\n",
       "      <td>sedan</td>\n",
       "      <td>NaN</td>\n",
       "      <td>wy</td>\n",
       "      <td>23590</td>\n",
       "    </tr>\n",
       "    <tr>\n",
       "      <th>426876</th>\n",
       "      <td>7301591187</td>\n",
       "      <td>wyoming</td>\n",
       "      <td>2020.0</td>\n",
       "      <td>volvo</td>\n",
       "      <td>s60 t5 momentum sedan 4d</td>\n",
       "      <td>good</td>\n",
       "      <td>NaN</td>\n",
       "      <td>gas</td>\n",
       "      <td>12029.0</td>\n",
       "      <td>clean</td>\n",
       "      <td>other</td>\n",
       "      <td>7JR102FKXLG042696</td>\n",
       "      <td>fwd</td>\n",
       "      <td>NaN</td>\n",
       "      <td>sedan</td>\n",
       "      <td>red</td>\n",
       "      <td>wy</td>\n",
       "      <td>30590</td>\n",
       "    </tr>\n",
       "    <tr>\n",
       "      <th>426877</th>\n",
       "      <td>7301591147</td>\n",
       "      <td>wyoming</td>\n",
       "      <td>2020.0</td>\n",
       "      <td>cadillac</td>\n",
       "      <td>xt4 sport suv 4d</td>\n",
       "      <td>good</td>\n",
       "      <td>NaN</td>\n",
       "      <td>diesel</td>\n",
       "      <td>4174.0</td>\n",
       "      <td>clean</td>\n",
       "      <td>other</td>\n",
       "      <td>1GYFZFR46LF088296</td>\n",
       "      <td>NaN</td>\n",
       "      <td>NaN</td>\n",
       "      <td>hatchback</td>\n",
       "      <td>white</td>\n",
       "      <td>wy</td>\n",
       "      <td>34990</td>\n",
       "    </tr>\n",
       "    <tr>\n",
       "      <th>426878</th>\n",
       "      <td>7301591140</td>\n",
       "      <td>wyoming</td>\n",
       "      <td>2018.0</td>\n",
       "      <td>lexus</td>\n",
       "      <td>es 350 sedan 4d</td>\n",
       "      <td>good</td>\n",
       "      <td>6 cylinders</td>\n",
       "      <td>gas</td>\n",
       "      <td>30112.0</td>\n",
       "      <td>clean</td>\n",
       "      <td>other</td>\n",
       "      <td>58ABK1GG4JU103853</td>\n",
       "      <td>fwd</td>\n",
       "      <td>NaN</td>\n",
       "      <td>sedan</td>\n",
       "      <td>silver</td>\n",
       "      <td>wy</td>\n",
       "      <td>28990</td>\n",
       "    </tr>\n",
       "    <tr>\n",
       "      <th>426879</th>\n",
       "      <td>7301591129</td>\n",
       "      <td>wyoming</td>\n",
       "      <td>2019.0</td>\n",
       "      <td>bmw</td>\n",
       "      <td>4 series 430i gran coupe</td>\n",
       "      <td>good</td>\n",
       "      <td>NaN</td>\n",
       "      <td>gas</td>\n",
       "      <td>22716.0</td>\n",
       "      <td>clean</td>\n",
       "      <td>other</td>\n",
       "      <td>WBA4J1C58KBM14708</td>\n",
       "      <td>rwd</td>\n",
       "      <td>NaN</td>\n",
       "      <td>coupe</td>\n",
       "      <td>NaN</td>\n",
       "      <td>wy</td>\n",
       "      <td>30590</td>\n",
       "    </tr>\n",
       "  </tbody>\n",
       "</table>\n",
       "</div>"
      ],
      "text/plain": [
       "                id   region    year manufacturer                     model  \\\n",
       "426875  7301591192  wyoming  2019.0       nissan         maxima s sedan 4d   \n",
       "426876  7301591187  wyoming  2020.0        volvo  s60 t5 momentum sedan 4d   \n",
       "426877  7301591147  wyoming  2020.0     cadillac          xt4 sport suv 4d   \n",
       "426878  7301591140  wyoming  2018.0        lexus           es 350 sedan 4d   \n",
       "426879  7301591129  wyoming  2019.0          bmw  4 series 430i gran coupe   \n",
       "\n",
       "       condition    cylinders    fuel  odometer title_status transmission  \\\n",
       "426875      good  6 cylinders     gas   32226.0        clean        other   \n",
       "426876      good          NaN     gas   12029.0        clean        other   \n",
       "426877      good          NaN  diesel    4174.0        clean        other   \n",
       "426878      good  6 cylinders     gas   30112.0        clean        other   \n",
       "426879      good          NaN     gas   22716.0        clean        other   \n",
       "\n",
       "                      VIN drive size       type paint_color state  price  \n",
       "426875  1N4AA6AV6KC367801   fwd  NaN      sedan         NaN    wy  23590  \n",
       "426876  7JR102FKXLG042696   fwd  NaN      sedan         red    wy  30590  \n",
       "426877  1GYFZFR46LF088296   NaN  NaN  hatchback       white    wy  34990  \n",
       "426878  58ABK1GG4JU103853   fwd  NaN      sedan      silver    wy  28990  \n",
       "426879  WBA4J1C58KBM14708   rwd  NaN      coupe         NaN    wy  30590  "
      ]
     },
     "execution_count": 9,
     "metadata": {},
     "output_type": "execute_result"
    }
   ],
   "source": [
    "df.tail()"
   ]
  },
  {
   "cell_type": "markdown",
   "metadata": {},
   "source": [
    "# 1) Getting Rid of Features not required for Modeling"
   ]
  },
  {
   "cell_type": "code",
   "execution_count": 10,
   "metadata": {},
   "outputs": [
    {
     "data": {
      "text/html": [
       "<div>\n",
       "<style scoped>\n",
       "    .dataframe tbody tr th:only-of-type {\n",
       "        vertical-align: middle;\n",
       "    }\n",
       "\n",
       "    .dataframe tbody tr th {\n",
       "        vertical-align: top;\n",
       "    }\n",
       "\n",
       "    .dataframe thead th {\n",
       "        text-align: right;\n",
       "    }\n",
       "</style>\n",
       "<table border=\"1\" class=\"dataframe\">\n",
       "  <thead>\n",
       "    <tr style=\"text-align: right;\">\n",
       "      <th></th>\n",
       "      <th>id</th>\n",
       "      <th>region</th>\n",
       "      <th>year</th>\n",
       "      <th>manufacturer</th>\n",
       "      <th>model</th>\n",
       "      <th>condition</th>\n",
       "      <th>cylinders</th>\n",
       "      <th>fuel</th>\n",
       "      <th>odometer</th>\n",
       "      <th>title_status</th>\n",
       "      <th>transmission</th>\n",
       "      <th>drive</th>\n",
       "      <th>size</th>\n",
       "      <th>type</th>\n",
       "      <th>paint_color</th>\n",
       "      <th>price</th>\n",
       "    </tr>\n",
       "  </thead>\n",
       "  <tbody>\n",
       "    <tr>\n",
       "      <th>426875</th>\n",
       "      <td>7301591192</td>\n",
       "      <td>wyoming</td>\n",
       "      <td>2019.0</td>\n",
       "      <td>nissan</td>\n",
       "      <td>maxima s sedan 4d</td>\n",
       "      <td>good</td>\n",
       "      <td>6 cylinders</td>\n",
       "      <td>gas</td>\n",
       "      <td>32226.0</td>\n",
       "      <td>clean</td>\n",
       "      <td>other</td>\n",
       "      <td>fwd</td>\n",
       "      <td>NaN</td>\n",
       "      <td>sedan</td>\n",
       "      <td>NaN</td>\n",
       "      <td>23590</td>\n",
       "    </tr>\n",
       "    <tr>\n",
       "      <th>426876</th>\n",
       "      <td>7301591187</td>\n",
       "      <td>wyoming</td>\n",
       "      <td>2020.0</td>\n",
       "      <td>volvo</td>\n",
       "      <td>s60 t5 momentum sedan 4d</td>\n",
       "      <td>good</td>\n",
       "      <td>NaN</td>\n",
       "      <td>gas</td>\n",
       "      <td>12029.0</td>\n",
       "      <td>clean</td>\n",
       "      <td>other</td>\n",
       "      <td>fwd</td>\n",
       "      <td>NaN</td>\n",
       "      <td>sedan</td>\n",
       "      <td>red</td>\n",
       "      <td>30590</td>\n",
       "    </tr>\n",
       "    <tr>\n",
       "      <th>426877</th>\n",
       "      <td>7301591147</td>\n",
       "      <td>wyoming</td>\n",
       "      <td>2020.0</td>\n",
       "      <td>cadillac</td>\n",
       "      <td>xt4 sport suv 4d</td>\n",
       "      <td>good</td>\n",
       "      <td>NaN</td>\n",
       "      <td>diesel</td>\n",
       "      <td>4174.0</td>\n",
       "      <td>clean</td>\n",
       "      <td>other</td>\n",
       "      <td>NaN</td>\n",
       "      <td>NaN</td>\n",
       "      <td>hatchback</td>\n",
       "      <td>white</td>\n",
       "      <td>34990</td>\n",
       "    </tr>\n",
       "    <tr>\n",
       "      <th>426878</th>\n",
       "      <td>7301591140</td>\n",
       "      <td>wyoming</td>\n",
       "      <td>2018.0</td>\n",
       "      <td>lexus</td>\n",
       "      <td>es 350 sedan 4d</td>\n",
       "      <td>good</td>\n",
       "      <td>6 cylinders</td>\n",
       "      <td>gas</td>\n",
       "      <td>30112.0</td>\n",
       "      <td>clean</td>\n",
       "      <td>other</td>\n",
       "      <td>fwd</td>\n",
       "      <td>NaN</td>\n",
       "      <td>sedan</td>\n",
       "      <td>silver</td>\n",
       "      <td>28990</td>\n",
       "    </tr>\n",
       "    <tr>\n",
       "      <th>426879</th>\n",
       "      <td>7301591129</td>\n",
       "      <td>wyoming</td>\n",
       "      <td>2019.0</td>\n",
       "      <td>bmw</td>\n",
       "      <td>4 series 430i gran coupe</td>\n",
       "      <td>good</td>\n",
       "      <td>NaN</td>\n",
       "      <td>gas</td>\n",
       "      <td>22716.0</td>\n",
       "      <td>clean</td>\n",
       "      <td>other</td>\n",
       "      <td>rwd</td>\n",
       "      <td>NaN</td>\n",
       "      <td>coupe</td>\n",
       "      <td>NaN</td>\n",
       "      <td>30590</td>\n",
       "    </tr>\n",
       "  </tbody>\n",
       "</table>\n",
       "</div>"
      ],
      "text/plain": [
       "                id   region    year manufacturer                     model  \\\n",
       "426875  7301591192  wyoming  2019.0       nissan         maxima s sedan 4d   \n",
       "426876  7301591187  wyoming  2020.0        volvo  s60 t5 momentum sedan 4d   \n",
       "426877  7301591147  wyoming  2020.0     cadillac          xt4 sport suv 4d   \n",
       "426878  7301591140  wyoming  2018.0        lexus           es 350 sedan 4d   \n",
       "426879  7301591129  wyoming  2019.0          bmw  4 series 430i gran coupe   \n",
       "\n",
       "       condition    cylinders    fuel  odometer title_status transmission  \\\n",
       "426875      good  6 cylinders     gas   32226.0        clean        other   \n",
       "426876      good          NaN     gas   12029.0        clean        other   \n",
       "426877      good          NaN  diesel    4174.0        clean        other   \n",
       "426878      good  6 cylinders     gas   30112.0        clean        other   \n",
       "426879      good          NaN     gas   22716.0        clean        other   \n",
       "\n",
       "       drive size       type paint_color  price  \n",
       "426875   fwd  NaN      sedan         NaN  23590  \n",
       "426876   fwd  NaN      sedan         red  30590  \n",
       "426877   NaN  NaN  hatchback       white  34990  \n",
       "426878   fwd  NaN      sedan      silver  28990  \n",
       "426879   rwd  NaN      coupe         NaN  30590  "
      ]
     },
     "execution_count": 10,
     "metadata": {},
     "output_type": "execute_result"
    }
   ],
   "source": [
    "df2=df.copy()\n",
    "df2=df2.drop(columns=['VIN','state'])\n",
    "\n",
    "df2.tail()"
   ]
  },
  {
   "cell_type": "markdown",
   "metadata": {},
   "source": [
    "Using # sklearn.impute.IterativeImputer\n",
    "Reason : Multivariate imputer that estimates each feature from all the others.\n",
    "\n",
    "A strategy for imputing missing values by modeling each feature with missing values as a function of other features in a round-robin fashion.\n",
    "\n",
    "default estimator =BayesianRidge() , but we will compare other estimators for better results\n"
   ]
  },
  {
   "cell_type": "code",
   "execution_count": 12,
   "metadata": {},
   "outputs": [],
   "source": [
    "check_imputer=df2.copy()\n",
    "check_imputer=check_imputer.drop(columns=['id'])"
   ]
  },
  {
   "cell_type": "code",
   "execution_count": 17,
   "metadata": {},
   "outputs": [
    {
     "name": "stdout",
     "output_type": "stream",
     "text": [
      "Index(['year', 'odometer', 'price'], dtype='object')\n",
      "Index(['region', 'manufacturer', 'model', 'condition', 'cylinders', 'fuel',\n",
      "       'title_status', 'transmission', 'drive', 'size', 'type', 'paint_color'],\n",
      "      dtype='object')\n"
     ]
    }
   ],
   "source": [
    "num_col = check_imputer.select_dtypes(include=['int64', 'float64']).columns\n",
    "cat_cols = check_imputer.select_dtypes(include=['object', 'bool']).columns\n",
    "print(num_col)\n",
    "print(cat_cols)"
   ]
  },
  {
   "cell_type": "code",
   "execution_count": 18,
   "metadata": {},
   "outputs": [
    {
     "name": "stderr",
     "output_type": "stream",
     "text": [
      "100%|██████████| 12/12 [00:02<00:00,  5.21it/s]\n"
     ]
    }
   ],
   "source": [
    "#object of LabelEncoder\n",
    "encoder=preprocessing.LabelEncoder()\n",
    "\n",
    "#function to label the categorical columns ignoring null values \n",
    "def encode(data):\n",
    "    #retains only non-null values\n",
    "    nonulls = np.array(data.dropna())\n",
    "    #reshapes the data for encoding\n",
    "    impute_reshape = nonulls.reshape(-1,1)\n",
    "    #encode date\n",
    "    impute_ordinal = encoder.fit_transform(impute_reshape)\n",
    "    #Assign back encoded values to non-null values\n",
    "    data.loc[data.notnull()] = np.squeeze(impute_ordinal)\n",
    "    return data\n",
    "\n",
    "#loop to label each column or categorical values into numberic\n",
    "for i in tqdm(range(len(cat_cols))):\n",
    "    encode(check_imputer[cat_cols[i]])"
   ]
  },
  {
   "cell_type": "code",
   "execution_count": 20,
   "metadata": {},
   "outputs": [
    {
     "name": "stdout",
     "output_type": "stream",
     "text": [
      "Estimating BayesianRidge\n",
      "Estimating DecisionTreeRegressor\n",
      "Estimating ExtraTreesRegressor\n",
      "Estimating KNeighborsRegressor\n"
     ]
    },
    {
     "data": {
      "image/png": "[encoded data removed]",
      "text/plain": [
       "<Figure size 864x432 with 1 Axes>"
      ]
     },
     "metadata": {
      "needs_background": "light"
     },
     "output_type": "display_data"
    }
   ],
   "source": [
    "from sklearn.kernel_approximation import Nystroem\n",
    "from sklearn.linear_model import BayesianRidge, Ridge\n",
    "# Estimate the score after imputation (mean and median strategies)\n",
    "br_estimator = BayesianRidge()\n",
    "N_SPLITS = 5\n",
    "\n",
    "score_simple_imputer = pd.DataFrame()\n",
    "\n",
    "for strategy in (\"mean\", \"median\"):\n",
    "    X=check_imputer.iloc[:,:-1]\n",
    "        #y=check_imputer.iloc[:,-1:].values.ravel()\n",
    "    y= np.ravel(check_imputer.iloc[:,-1:])\n",
    "    estimator = make_pipeline(\n",
    "        SimpleImputer(missing_values=np.nan, strategy=strategy), br_estimator\n",
    "    )\n",
    "    score_simple_imputer[strategy] = cross_val_score(\n",
    "        estimator, X, y, scoring=\"neg_mean_squared_error\", cv=N_SPLITS\n",
    "    )\n",
    "\n",
    "estimators = [\n",
    "    BayesianRidge(),\n",
    "    DecisionTreeRegressor(max_features='sqrt', random_state=0),\n",
    "    ExtraTreesRegressor(n_estimators=10, random_state=0),\n",
    "    KNeighborsRegressor(n_neighbors=15)\n",
    "]\n",
    "\n",
    "\n",
    "score_iterative_imputer = pd.DataFrame()\n",
    "for esti in estimators:\n",
    "        print(\"Estimating\",esti.__class__.__name__)\n",
    "        imputer = IterativeImputer(esti)\n",
    "        df_new=check_imputer.copy()\n",
    "        for col in check_imputer.columns:\n",
    "            #col=check_imputer.columns[i]\n",
    "            # print(col)\n",
    "            impute_data=imputer.fit_transform(df_new[col].values.reshape(-1,1))\n",
    "            impute_data=impute_data.astype('int64')\n",
    "            impute_data = pd.DataFrame(np.ravel(impute_data))\n",
    "            df_new[col]=impute_data\n",
    "        X=df_new.iloc[:,:-1]\n",
    "        #y=check_imputer.iloc[:,-1:].values.ravel()\n",
    "        y = np.ravel(df_new.iloc[:,-1:])\n",
    "        score_iterative_imputer[esti.__class__.__name__] = cross_val_score(esti,X,y,scoring='neg_mean_squared_error',cv=6)\n",
    "\n",
    "        \n",
    "scores = pd.concat(\n",
    "    [score_simple_imputer, score_iterative_imputer],\n",
    "    keys=['SimpleImputer', 'IterativeImputer'], axis=1\n",
    ")\n",
    "fig, ax = plt.subplots(figsize=(12, 6))\n",
    "means = -scores.mean()\n",
    "errors = scores.std()\n",
    "means.plot.barh(xerr=errors, ax=ax)\n",
    "ax.set_title('MSE with Different Imputation Methods')\n",
    "ax.set_xlabel('MSE (smaller value is better)')\n",
    "ax.set_yticks(np.arange(means.shape[0]))\n",
    "ax.set_yticklabels(means.index.tolist())\n",
    "plt.tight_layout(pad=1)\n",
    "plt.savefig('images/different-imputations-method',dpi=None)\n",
    "plt.show()"
   ]
  },
  {
   "cell_type": "markdown",
   "metadata": {},
   "source": [
    "Above chart shows ExtratreeRegressor and DecisionTreeRegressor shows best results\n",
    "\n",
    "Now Imputing null values using IterativeImputer in both Numerical and Categorial columns"
   ]
  },
  {
   "cell_type": "code",
   "execution_count": 21,
   "metadata": {},
   "outputs": [],
   "source": [
    "data_num=df2[num_col]\n",
    "imputer_num=IterativeImputer(estimators[2]) #estimators[2] = ExtraTreesRegressor\n",
    "impute_data=imputer_num.fit_transform(data_num)\n",
    "df2[num_col]=impute_data"
   ]
  },
  {
   "cell_type": "code",
   "execution_count": 22,
   "metadata": {},
   "outputs": [],
   "source": [
    "data_cat=df2[cat_cols]\n",
    "encoder=preprocessing.LabelEncoder()\n",
    "\n",
    "#create a for loop to iterate through each column in the data\n",
    "for columns in cat_cols:\n",
    "    encode(data_cat[columns])\n",
    "    imputer = IterativeImputer(BayesianRidge())\n",
    "    impute_data=imputer.fit_transform(data_cat[columns].values.reshape(-1, 1))\n",
    "    impute_data=impute_data.astype('int64')\n",
    "    impute_data = pd.DataFrame(impute_data)\n",
    "    impute_data =encoder.inverse_transform(impute_data.values.reshape(-1, 1))\n",
    "    data_cat[columns]=impute_data\n",
    "df2[cat_cols]=data_cat   "
   ]
  },
  {
   "cell_type": "code",
   "execution_count": 90,
   "metadata": {},
   "outputs": [],
   "source": [
    "df2.to_csv('data/vehicles_silver.csv',index=False)"
   ]
  },
  {
   "cell_type": "code",
   "execution_count": 52,
   "metadata": {},
   "outputs": [],
   "source": [
    "from IPython.display import display,Latex\n",
    "outliers_condi=Latex(r\" $\\textbf{W𝑒 𝑐𝑎𝑛 𝑠𝑎𝑦 $𝑥_1$ or $x_2$ 𝑖𝑠 𝑜𝑢𝑡𝑙𝑖𝑒𝑟𝑠 if }\\\\ x_1 < Q1 - 1.5*IQR \\\\ or\\\\ x_2 > Q3+1.5*IQR $\")\n",
    "outliers_info=Latex(r\"$L_{p} = \\frac{p}{100}(n+1) = i_p.f_p \\\\ where \\,\\, i_p \\,\\, is \\,\\, integer \\,\\, part \\,\\, of \\,\\, L_p \\,\\, and \\,\\, f_p \\,\\, is \\,\\, fractional \\,\\, part \\,\\, of \\,\\, L_p \\\\ Q1 = Y_{25} = x_{i_p} + f_p*(x_{i_{p+1}}-x_{i_p}) \\\\ Q3 = Y_{75} = x_{i_p} + f_p*(x_{i_{p+1}}-x_{i_p}) \\\\ IQR = Q3-Q1 \\\\ x_1 = Q1 - 1.5*IQR \\,\\,and\\,\\, x_2 = Q3+1.5*IQR $\")"
   ]
  },
  {
   "cell_type": "code",
   "execution_count": 53,
   "metadata": {},
   "outputs": [
    {
     "data": {
      "text/latex": [
       "$L_{p} = \\frac{p}{100}(n+1) = i_p.f_p \\\\ where \\,\\, i_p \\,\\, is \\,\\, integer \\,\\, part \\,\\, of \\,\\, L_p \\,\\, and \\,\\, f_p \\,\\, is \\,\\, fractional \\,\\, part \\,\\, of \\,\\, L_p \\\\ Q1 = Y_{25} = x_{i_p} + f_p*(x_{i_{p+1}}-x_{i_p}) \\\\ Q3 = Y_{75} = x_{i_p} + f_p*(x_{i_{p+1}}-x_{i_p}) \\\\ IQR = Q3-Q1 \\\\ x_1 = Q1 - 1.5*IQR \\,\\,and\\,\\, x_2 = Q3+1.5*IQR $"
      ],
      "text/plain": [
       "<IPython.core.display.Latex object>"
      ]
     },
     "metadata": {},
     "output_type": "display_data"
    },
    {
     "data": {
      "text/latex": [
       " $\\textbf{W𝑒 𝑐𝑎𝑛 𝑠𝑎𝑦 $𝑥_1$ or $x_2$ 𝑖𝑠 𝑜𝑢𝑡𝑙𝑖𝑒𝑟𝑠 if }\\\\ x_1 < Q1 - 1.5*IQR \\\\ or\\\\ x_2 > Q3+1.5*IQR $"
      ],
      "text/plain": [
       "<IPython.core.display.Latex object>"
      ]
     },
     "metadata": {},
     "output_type": "display_data"
    }
   ],
   "source": [
    "display(outliers_info)\n",
    "display(outliers_condi)"
   ]
  },
  {
   "cell_type": "code",
   "execution_count": 54,
   "metadata": {},
   "outputs": [],
   "source": [
    "#it will return the range of the variables and the values outside this range will be outliers\n",
    "def outliers(arr,col):\n",
    "    x=sorted(arr[col].values.ravel())\n",
    "    L_25=25/100*(len(x)+1) #L_p where p=25%\n",
    "    i_p=int(str(L_25).split(\".\")[0])\n",
    "    f_p=int(str(L_25).split(\".\")[1])\n",
    "    q1=x[i_p]+f_p*(x[i_p+1]-x[i_p])\n",
    "    \n",
    "    L_75=75/100*(len(x)+1) #L_p where p=75%\n",
    "    i_p=int(str(L_75).split(\".\")[0])\n",
    "    f_p=int(str(L_75).split(\".\")[1])\n",
    "    q3=x[i_p]+f_p*(x[i_p+1]-x[i_p])\n",
    "    \n",
    "    #q1,q3=(arr[col].quantile([0.25,0.75]))\n",
    "    \n",
    "    IQR=q3-q1\n",
    "    x1=q1-1.5*IQR\n",
    "    x2=q3+1.5*IQR\n",
    "    return (x1,x2)"
   ]
  },
  {
   "cell_type": "code",
   "execution_count": 55,
   "metadata": {},
   "outputs": [
    {
     "data": {
      "image/png": "[encoded data removed]",
      "text/plain": [
       "<Figure size 432x288 with 1 Axes>"
      ]
     },
     "metadata": {
      "needs_background": "light"
     },
     "output_type": "display_data"
    }
   ],
   "source": [
    "def min_max_price(df):\n",
    "    r=[]\n",
    "    q1,q3=(df['logprice'].quantile([0.25,0.75]))\n",
    "    r.append(q1-1.5*(q3-q1))\n",
    "    r.append(q3+1.5*(q3-q1))\n",
    "    return (r)\n",
    "df2['logprice'] = np.log(df2['price'])\n",
    "x=df2['logprice']\n",
    "price_range=list(range(0,int(max(df2['logprice']))+1))\n",
    "red_square = dict(markerfacecolor='g', marker='s')\n",
    "\n",
    "\n",
    "\n",
    "plt.boxplot(x, vert=False)\n",
    "plt.xticks(price_range)\n",
    "plt.text(min_max_price(df2)[0]-0.3,1.05,str(round(min_max_price(df2)[0],2)))\n",
    "plt.text(min_max_price(df2)[1]-0.5,1.05,str(round(min_max_price(df2)[1],2)))\n",
    "plt.title(\"Figure 1: Box Plot of Price\")\n",
    "plt.savefig('images/graph-boxplot-price.jpg')\n",
    "plt.show()\n"
   ]
  },
  {
   "cell_type": "code",
   "execution_count": 56,
   "metadata": {},
   "outputs": [
    {
     "data": {
      "image/png": "[encoded data removed]",
      "text/plain": [
       "<Figure size 432x288 with 1 Axes>"
      ]
     },
     "metadata": {
      "needs_background": "light"
     },
     "output_type": "display_data"
    }
   ],
   "source": [
    "fig, ax1 = plt.subplots()\n",
    "ax1.set_title('Figure 2: Box Plot of Odometer')\n",
    "ax1.boxplot(df2['odometer'], vert=False, flierprops=red_square)\n",
    "plt.savefig('images/graph-boxplot-odometer.jpg')\n",
    "plt.show()"
   ]
  },
  {
   "cell_type": "code",
   "execution_count": 57,
   "metadata": {},
   "outputs": [
    {
     "data": {
      "image/png": "[encoded data removed]",
      "text/plain": [
       "<Figure size 864x360 with 2 Axes>"
      ]
     },
     "metadata": {
      "needs_background": "light"
     },
     "output_type": "display_data"
    }
   ],
   "source": [
    "fig,(ax1,ax2)=plt.subplots(ncols=2,figsize=(12,5))\n",
    "\n",
    "#ploting boxplot\n",
    "o1,o2=outliers(df2,'year')\n",
    "ax1.boxplot(sorted(df2['year']), vert=False, flierprops=red_square)\n",
    "ax1.set_xlabel(\"Years\")\n",
    "ax1.set_title(\"Figure 3: Box Plot of Year\")\n",
    "ax1.text(o1-8,1.05,str(round(o1,2)))\n",
    "\n",
    "#ploting histogram\n",
    "hist,bins=np.histogram(df2['year'])\n",
    "n, bins, patches = ax2.hist(x=df2['year'], bins=bins)\n",
    "ax2.set_xlabel(\"Years\")\n",
    "ax2.set_title(\"Figure 4: Histogram of Year\")\n",
    "for i in range(len(n)):\n",
    "    if(n[i]>2000):\n",
    "        ax2.text(bins[i],n[i]+3000,str(n[i]))\n",
    "\n",
    "plt.tight_layout()\n",
    "plt.savefig('images/graph-barplot-histogram-year.jpg',dpi=1200)\n",
    "plt.show()"
   ]
  },
  {
   "cell_type": "code",
   "execution_count": 61,
   "metadata": {},
   "outputs": [
    {
     "name": "stdout",
     "output_type": "stream",
     "text": [
      "year\n"
     ]
    }
   ],
   "source": [
    "print(col)"
   ]
  },
  {
   "cell_type": "code",
   "execution_count": 87,
   "metadata": {},
   "outputs": [
    {
     "name": "stdout",
     "output_type": "stream",
     "text": [
      "IQR of logprice = 6.430098455893903 12.43705625322699\n",
      "IQR of odometer = -108025.0 282415.0\n",
      "IQR of year = 1994.5 2030.5\n"
     ]
    }
   ],
   "source": [
    "#removing outliers \n",
    "df_new=df2.copy()\n",
    "out=np.array(['logprice','odometer','year'])\n",
    "for col in out:\n",
    "    o1,o2=outliers(df_new,col)\n",
    "    df_new=df_new[(df_new[col]>=o1) & (df_new[col]<=o2)]\n",
    "    print('IQR of',col,'=',o1,o2)\n",
    "df_new=df_new[df_new['price']!=0]\n",
    "df_new.drop('logprice',axis=1,inplace=True)"
   ]
  },
  {
   "cell_type": "code",
   "execution_count": 88,
   "metadata": {},
   "outputs": [
    {
     "name": "stdout",
     "output_type": "stream",
     "text": [
      "Shape before process= (426880, 18)\n",
      "Shape After process= (364402, 16)\n",
      "Total 62478 rows and 2 cols removed\n"
     ]
    }
   ],
   "source": [
    "print(\"Shape before process=\",df.shape)\n",
    "print(\"Shape After process=\",df_new.shape)\n",
    "diff=df.shape[0]-df_new.shape[0]\n",
    "print(\"Total {} rows and {} cols removed\".format(diff,df.shape[1]-df_new.shape[1]))\n",
    "df_new.to_csv(\"data/vehicles_gold.csv\",index=False)"
   ]
  },
  {
   "cell_type": "code",
   "execution_count": null,
   "metadata": {},
   "outputs": [],
   "source": [
    "# Evaluation With some modeling accomplished, we aim to reflect on what we identify as a high quality model and what we are able to learn from this.  \n",
    "# We should review our business objective and explore how well we can provide meaningful insight on drivers of used car prices.  \n",
    "# Your goal now is to distill your findings and determine whether the earlier phases need revisitation and adjustment or if you have information of value to bring back to your client."
   ]
  },
  {
   "cell_type": "code",
   "execution_count": null,
   "metadata": {},
   "outputs": [],
   "source": []
  },
  {
   "cell_type": "code",
   "execution_count": null,
   "metadata": {},
   "outputs": [],
   "source": []
  },
  {
   "cell_type": "code",
   "execution_count": null,
   "metadata": {},
   "outputs": [],
   "source": []
  },
  {
   "cell_type": "code",
   "execution_count": null,
   "metadata": {},
   "outputs": [],
   "source": []
  },
  {
   "cell_type": "code",
   "execution_count": null,
   "metadata": {},
   "outputs": [],
   "source": []
  },
  {
   "cell_type": "code",
   "execution_count": null,
   "metadata": {},
   "outputs": [],
   "source": []
  },
  {
   "cell_type": "markdown",
   "metadata": {},
   "source": [
    "### Deployment\n",
    "\n",
    "Now that we've settled on our models and findings, it is time to deliver the information to the client.  You should organize your work as a basic report that details your primary findings.  Keep in mind that your audience is a group of used car dealers interested in fine tuning their inventory."
   ]
  },
  {
   "cell_type": "code",
   "execution_count": null,
   "metadata": {},
   "outputs": [],
   "source": []
  },
  {
   "cell_type": "code",
   "execution_count": null,
   "metadata": {},
   "outputs": [],
   "source": []
  },
  {
   "cell_type": "code",
   "execution_count": null,
   "metadata": {},
   "outputs": [],
   "source": []
  },
  {
   "cell_type": "code",
   "execution_count": null,
   "metadata": {},
   "outputs": [],
   "source": []
  },
  {
   "cell_type": "code",
   "execution_count": null,
   "metadata": {},
   "outputs": [],
   "source": []
  },
  {
   "cell_type": "code",
   "execution_count": null,
   "metadata": {},
   "outputs": [],
   "source": []
  },
  {
   "cell_type": "code",
   "execution_count": null,
   "metadata": {},
   "outputs": [],
   "source": []
  }
 ],
 "metadata": {
  "interpreter": {
   "hash": "734443713eda4c28c011f9a1fd63b11859dc59a8c8ae73c41a1d12678dd757d4"
  },
  "kernelspec": {
   "display_name": "Python 3.9.12 ('base')",
   "language": "python",
   "name": "python3"
  },
  "language_info": {
   "codemirror_mode": {
    "name": "ipython",
    "version": 3
   },
   "file_extension": ".py",
   "mimetype": "text/x-python",
   "name": "python",
   "nbconvert_exporter": "python",
   "pygments_lexer": "ipython3",
   "version": "3.9.12"
  },
  "widgets": {
   "application/vnd.jupyter.widget-state+json": {
    "state": {},
    "version_major": 2,
    "version_minor": 0
   }
  }
 },
 "nbformat": 4,
 "nbformat_minor": 4
}
